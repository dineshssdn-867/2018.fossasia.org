{
  "cells": [
    {
      "cell_type": "markdown",
      "metadata": {
        "id": "view-in-github",
        "colab_type": "text"
      },
      "source": [
        "<a href=\"https://colab.research.google.com/github/dineshssdn-867/2018.fossasia.org/blob/master/Auto_Feature_Extraction/CNN1D_%2B_LSTM_GRU_on_DEAP_dataset.ipynb\" target=\"_parent\"><img src=\"https://colab.research.google.com/assets/colab-badge.svg\" alt=\"Open In Colab\"/></a>"
      ]
    },
    {
      "cell_type": "code",
      "execution_count": 1,
      "metadata": {
        "id": "yKRb-sVKBT5H",
        "colab": {
          "base_uri": "https://localhost:8080/"
        },
        "outputId": "8cdbe5ef-4316-4b26-875e-17aa6d3d4690"
      },
      "outputs": [
        {
          "output_type": "stream",
          "name": "stdout",
          "text": [
            "Cloning into 'pyeeg'...\n",
            "remote: Enumerating objects: 210, done.\u001b[K\n",
            "remote: Counting objects: 100% (3/3), done.\u001b[K\n",
            "remote: Compressing objects: 100% (3/3), done.\u001b[K\n",
            "remote: Total 210 (delta 0), reused 0 (delta 0), pack-reused 207\u001b[K\n",
            "Receiving objects: 100% (210/210), 119.45 KiB | 2.25 MiB/s, done.\n",
            "Resolving deltas: 100% (95/95), done.\n"
          ]
        }
      ],
      "source": [
        "!git clone https://github.com/forrestbao/pyeeg.git"
      ],
      "id": "yKRb-sVKBT5H"
    },
    {
      "cell_type": "code",
      "execution_count": 2,
      "metadata": {
        "id": "0d2b318c"
      },
      "outputs": [],
      "source": [
        "import numpy as np\n",
        "import pickle as pickle\n",
        "import pandas as pd\n",
        "import math\n",
        "import seaborn as sns\n",
        "\n",
        "import matplotlib.pyplot as plt\n",
        "\n",
        "import pyeeg as pe\n",
        "import pywt\n",
        "\n",
        "from sklearn import svm\n",
        "from sklearn.preprocessing import normalize\n",
        "\n",
        "import os\n",
        "import time"
      ],
      "id": "0d2b318c"
    },
    {
      "cell_type": "code",
      "execution_count": 3,
      "metadata": {
        "id": "27afad3c"
      },
      "outputs": [],
      "source": [
        "import tensorflow as tf\n",
        "import keras\n",
        "\n",
        "from tensorflow.keras.utils import to_categorical \n",
        "\n",
        "from keras.models import Sequential\n",
        "from keras.models import load_model\n",
        "\n",
        "from keras.layers import Conv1D, MaxPooling1D\n",
        "from keras.layers import BatchNormalization, Activation, Dropout, Flatten, Dense\n",
        "\n",
        "from keras.layers import Bidirectional, TimeDistributed\n",
        "from keras.layers import LSTM, GRU, SimpleRNN\n",
        "\n",
        "from sklearn.model_selection import train_test_split\n",
        "from sklearn.preprocessing import StandardScaler\n",
        "\n",
        "from tensorflow.keras.regularizers import l2\n",
        "\n",
        "from sklearn.metrics import confusion_matrix, classification_report"
      ],
      "id": "27afad3c"
    },
    {
      "cell_type": "code",
      "execution_count": 4,
      "metadata": {
        "colab": {
          "base_uri": "https://localhost:8080/"
        },
        "id": "_KktP1Z2AIar",
        "outputId": "c2261601-8ef3-4842-cb9f-c1a3102de5cd"
      },
      "outputs": [
        {
          "output_type": "stream",
          "name": "stdout",
          "text": [
            "Mounted at /content/drive\n"
          ]
        }
      ],
      "source": [
        "from google.colab import drive\n",
        "drive.mount('/content/drive')"
      ],
      "id": "_KktP1Z2AIar"
    },
    {
      "cell_type": "markdown",
      "metadata": {
        "id": "f7761bf0"
      },
      "source": [
        "# Datasets Preparation"
      ],
      "id": "f7761bf0"
    },
    {
      "cell_type": "markdown",
      "metadata": {
        "id": "7bd14df8"
      },
      "source": [
        "## Data Preprocessing"
      ],
      "id": "7bd14df8"
    },
    {
      "cell_type": "markdown",
      "metadata": {
        "id": "f9b61bbe"
      },
      "source": [
        "### Epoching + Label Mapping"
      ],
      "id": "f9b61bbe"
    },
    {
      "cell_type": "code",
      "execution_count": 5,
      "metadata": {
        "id": "f90d586a"
      },
      "outputs": [],
      "source": [
        "def label_mapping(valence, arousal):\n",
        "    # HVHA, HVLA, LVHA, and LVLA\n",
        "    \n",
        "    if (valence > 5 and arousal > 5):\n",
        "        label = 0 #'HVHA'\n",
        "    elif (valence > 5 and arousal <= 5):\n",
        "        label = 1 #'HVLA'\n",
        "    elif (valence <= 5 and arousal > 5):\n",
        "        label = 2 #'LVHA'\n",
        "    elif (valence <= 5 and arousal <= 5):\n",
        "        label = 3 #'LVLA'\n",
        "    \n",
        "    return label"
      ],
      "id": "f90d586a"
    },
    {
      "cell_type": "code",
      "execution_count": 6,
      "metadata": {
        "id": "1662d49c"
      },
      "outputs": [],
      "source": [
        "def map_label(label):\n",
        "    new_label = label_mapping(label[0], label[1]) \n",
        "    return new_label"
      ],
      "id": "1662d49c"
    },
    {
      "cell_type": "code",
      "execution_count": 7,
      "metadata": {
        "colab": {
          "base_uri": "https://localhost:8080/"
        },
        "id": "6b468d6d",
        "outputId": "5545fac0-8ac3-4590-cab5-ab55d874d30a"
      },
      "outputs": [
        {
          "output_type": "stream",
          "name": "stdout",
          "text": [
            "[0, 1, 2, 3, 4, 5, 6, 7, 8, 9, 10, 11, 12, 13, 14, 15, 16, 17, 18, 19, 20, 21, 22, 23, 24, 25, 26, 27, 28, 29, 30, 31, 32]\n"
          ]
        }
      ],
      "source": [
        "chan = [0, 1, 2, 3, 4, 5, 6, 7, 8, 9, 10, 11, 12, 13, 14, 15, 16, 17, 18, 19, 20,\n",
        "       21, 22, 23, 24, 25, 26, 27, 28, 29, 30, 31, 32]\n",
        "print(chan)"
      ],
      "id": "6b468d6d"
    },
    {
      "cell_type": "code",
      "execution_count": 8,
      "metadata": {
        "id": "51a07e17"
      },
      "outputs": [],
      "source": [
        "channel = [1,2,3,4,7,11,13,17,19,20,21,25,29,31]\n",
        "channel_test = [0, 16] # Fp1, Fp2\n",
        "\n",
        "window_size = 256 #Averaging band power of 2 sec\n",
        "step_size = 256 #Each 1 sec update once\n",
        "subject_list = [\n",
        "    '01','02','03','04','05','06','07','08','09','10'\n",
        "    ,'11','12','13','14','15','16','17','18','19','20'\n",
        "    ,'21','22','23','24','25','26','27','28','29','30'\n",
        "    ,'31','32'\n",
        "]\n",
        "\n",
        "subject_train = [\n",
        "    '01','02','03','04','05','06','07','08','09','10'\n",
        "    ,'11','12','13','14','15','16','17','18','19','20'\n",
        "    ,'21','22','23','24','25'\n",
        "]\n",
        "\n",
        "subject_val = ['26','27','28','29','30']\n",
        "subject_test = ['31','32']"
      ],
      "id": "51a07e17"
    },
    {
      "cell_type": "code",
      "execution_count": 9,
      "metadata": {
        "id": "4d77457e"
      },
      "outputs": [],
      "source": [
        "def epoching (sub, channel, window_size, step_size):\n",
        "    \n",
        "    signal = []\n",
        "    with open(\"/content/drive/MyDrive/Akhand Sir UGRP/Main Data/s\" + sub + '.dat', 'rb') as file:\n",
        "\n",
        "        subject = pickle.load(file, encoding='latin1') #resolve the python 2 data problem by encoding : latin1\n",
        "\n",
        "        for i in range (0,40):\n",
        "            # loop over 0-39 trials\n",
        "            data = subject[\"data\"][i]\n",
        "            labels = subject[\"labels\"][i]\n",
        "            labels = np.array(map_label(labels))\n",
        "            start = 0;\n",
        "\n",
        "            while start + window_size <= data.shape[1]:\n",
        "                array = []\n",
        "                for j in channel:\n",
        "                    X = data[j][start : start + window_size] #Slice raw data over 2 sec, at interval of 1 sec\n",
        "                    array.append(np.array(X))\n",
        "                    array.append(np.array(labels))\n",
        "                    signal.append(np.array(array))\n",
        "  \n",
        "                start = start + step_size\n",
        "                \n",
        "        signal = np.array(signal)\n",
        "        np.save('/content/drive/MyDrive/Akhand Sir UGRP/Pre-processed Data/s' + sub, signal, allow_pickle=True, fix_imports=True)"
      ],
      "id": "4d77457e"
    },
    {
      "cell_type": "code",
      "execution_count": 10,
      "metadata": {
        "colab": {
          "base_uri": "https://localhost:8080/"
        },
        "id": "3abe3daa",
        "outputId": "2878dc3a-8901-4a6a-8f39-8157e4e59760"
      },
      "outputs": [
        {
          "output_type": "stream",
          "name": "stderr",
          "text": [
            "/usr/local/lib/python3.7/dist-packages/ipykernel_launcher.py:21: VisibleDeprecationWarning: Creating an ndarray from ragged nested sequences (which is a list-or-tuple of lists-or-tuples-or ndarrays with different lengths or shapes) is deprecated. If you meant to do this, you must specify 'dtype=object' when creating the ndarray.\n",
            "/usr/local/lib/python3.7/dist-packages/ipykernel_launcher.py:25: VisibleDeprecationWarning: Creating an ndarray from ragged nested sequences (which is a list-or-tuple of lists-or-tuples-or ndarrays with different lengths or shapes) is deprecated. If you meant to do this, you must specify 'dtype=object' when creating the ndarray.\n"
          ]
        },
        {
          "output_type": "stream",
          "name": "stdout",
          "text": [
            "01\n",
            "02\n",
            "03\n",
            "04\n",
            "05\n",
            "06\n",
            "07\n",
            "08\n",
            "09\n",
            "10\n",
            "11\n",
            "12\n",
            "13\n",
            "14\n",
            "15\n",
            "16\n",
            "17\n",
            "18\n",
            "19\n",
            "20\n",
            "21\n",
            "22\n",
            "23\n",
            "24\n",
            "25\n",
            "26\n",
            "27\n",
            "28\n",
            "29\n",
            "30\n",
            "31\n",
            "32\n"
          ]
        }
      ],
      "source": [
        "for subjects in subject_list:\n",
        "    epoching (subjects, channel, window_size, step_size)\n",
        "    print(subjects)"
      ],
      "id": "3abe3daa"
    },
    {
      "cell_type": "code",
      "execution_count": 11,
      "metadata": {
        "id": "f8d51a8a"
      },
      "outputs": [],
      "source": [
        "with open('/content/drive/MyDrive/Akhand Sir UGRP/Pre-processed Data/s02' + '.npy', 'rb') as file:\n",
        "    sub = np.load(file,allow_pickle=True)"
      ],
      "id": "f8d51a8a"
    },
    {
      "cell_type": "code",
      "execution_count": 12,
      "metadata": {
        "colab": {
          "base_uri": "https://localhost:8080/"
        },
        "id": "7d4119d4",
        "outputId": "b2d53f3c-4d2a-42ff-b3c0-9915ad6f694e"
      },
      "outputs": [
        {
          "output_type": "stream",
          "name": "stdout",
          "text": [
            "(17360,)\n",
            "(2,)\n",
            "(256,)\n",
            "()\n"
          ]
        }
      ],
      "source": [
        "print(sub.shape)\n",
        "print(sub[0].shape)\n",
        "print(sub[0][0].shape)\n",
        "print(sub[0][1].shape)"
      ],
      "id": "7d4119d4"
    },
    {
      "cell_type": "markdown",
      "metadata": {
        "id": "cb7e1b8d"
      },
      "source": [
        "# Data Preparation"
      ],
      "id": "cb7e1b8d"
    },
    {
      "cell_type": "markdown",
      "metadata": {
        "id": "a041527d"
      },
      "source": [
        "## Combine Data"
      ],
      "id": "a041527d"
    },
    {
      "cell_type": "code",
      "execution_count": 13,
      "metadata": {
        "colab": {
          "base_uri": "https://localhost:8080/"
        },
        "id": "9109d98b",
        "outputId": "58aa20c0-5950-450e-eaac-77849d3cadfd"
      },
      "outputs": [
        {
          "output_type": "stream",
          "name": "stdout",
          "text": [
            "Training datasets: (555520, 256) (555520,)\n"
          ]
        }
      ],
      "source": [
        "data = []\n",
        "label = []\n",
        "\n",
        "for subjects in subject_list:\n",
        "\n",
        "    with open('/content/drive/MyDrive/Akhand Sir UGRP/Pre-processed Data/s' + subjects + '.npy', 'rb') as file:\n",
        "        sub = np.load(file,allow_pickle=True)\n",
        "        for i in range (0,sub.shape[0]):\n",
        "            data.append(sub[i][0])\n",
        "            label.append(sub[i][1])\n",
        "\n",
        "np.save('/content/drive/MyDrive/Akhand Sir UGRP/Data for traning and testing/', np.array(data), allow_pickle=True, fix_imports=True)\n",
        "np.save('/content/drive/MyDrive/Akhand Sir UGRP/Labels/', np.array(label), allow_pickle=True, fix_imports=True)\n",
        "print(\"Training datasets:\", np.array(data).shape, np.array(label).shape)"
      ],
      "id": "9109d98b"
    },
    {
      "cell_type": "code",
      "execution_count": 14,
      "metadata": {
        "colab": {
          "base_uri": "https://localhost:8080/"
        },
        "id": "1fbc5be1",
        "outputId": "a8d7e599-4321-4a96-b607-3ebd407d437f"
      },
      "outputs": [
        {
          "output_type": "stream",
          "name": "stdout",
          "text": [
            "{0: 190526, 1: 116746, 2: 129332, 3: 118916}\n"
          ]
        }
      ],
      "source": [
        "unique, counts = np.unique(label, return_counts=True)\n",
        "label_dist = dict(zip(unique, counts))\n",
        "print(label_dist)"
      ],
      "id": "1fbc5be1"
    },
    {
      "cell_type": "code",
      "execution_count": 15,
      "metadata": {
        "id": "a0b07bcb"
      },
      "outputs": [],
      "source": [
        "with open('/content/drive/MyDrive/Akhand Sir UGRP/Data for traning and testing/data.npy', 'rb') as fileTrain:\n",
        "    data  = np.load(fileTrain)\n",
        "    \n",
        "with open('/content/drive/MyDrive/Akhand Sir UGRP/Labels/labels.npy', 'rb') as fileTrainL:\n",
        "    label  = np.load(fileTrainL)"
      ],
      "id": "a0b07bcb"
    },
    {
      "cell_type": "markdown",
      "metadata": {
        "id": "3334096a"
      },
      "source": [
        "## Train Val Test Split"
      ],
      "id": "3334096a"
    },
    {
      "cell_type": "code",
      "execution_count": 16,
      "metadata": {
        "colab": {
          "base_uri": "https://localhost:8080/"
        },
        "id": "d6f25ca5",
        "outputId": "8a80c6bb-571e-420b-ac44-c4e0ac08490e"
      },
      "outputs": [
        {
          "output_type": "stream",
          "name": "stdout",
          "text": [
            "(555520, 256)\n",
            "(555520,)\n"
          ]
        }
      ],
      "source": [
        "print(data.shape)\n",
        "print(label.shape)"
      ],
      "id": "d6f25ca5"
    },
    {
      "cell_type": "code",
      "execution_count": 17,
      "metadata": {
        "id": "243d9922"
      },
      "outputs": [],
      "source": [
        "x_train, x, y_train, y = train_test_split(data, label, test_size=0.3, random_state=42)"
      ],
      "id": "243d9922"
    },
    {
      "cell_type": "code",
      "execution_count": 18,
      "metadata": {
        "id": "e590c89b"
      },
      "outputs": [],
      "source": [
        "x_val, x_test, y_val, y_test = train_test_split(x, y, test_size=0.5, random_state=42)"
      ],
      "id": "e590c89b"
    },
    {
      "cell_type": "code",
      "execution_count": 19,
      "metadata": {
        "colab": {
          "base_uri": "https://localhost:8080/"
        },
        "id": "dfdcf470",
        "outputId": "d774e7e9-58bd-4087-cbda-b2e29ad169c6"
      },
      "outputs": [
        {
          "output_type": "stream",
          "name": "stdout",
          "text": [
            "(388864, 256)\n",
            "(388864,)\n",
            "(83328, 256)\n",
            "(83328,)\n",
            "(83328, 256)\n",
            "(83328,)\n"
          ]
        }
      ],
      "source": [
        "print(x_train.shape)\n",
        "print(y_train.shape)\n",
        "print(x_val.shape)\n",
        "print(y_val.shape)\n",
        "print(x_test.shape)\n",
        "print(y_test.shape)"
      ],
      "id": "dfdcf470"
    },
    {
      "cell_type": "code",
      "execution_count": 20,
      "metadata": {
        "colab": {
          "base_uri": "https://localhost:8080/"
        },
        "id": "24a1efe3",
        "outputId": "c817897b-6fdc-450e-a0a7-ccb36abfdce7"
      },
      "outputs": [
        {
          "output_type": "stream",
          "name": "stdout",
          "text": [
            "{0: 133342, 1: 81494, 2: 90630, 3: 83398}\n",
            "{0: 28389, 1: 17818, 2: 19365, 3: 17756}\n",
            "{0: 28795, 1: 17434, 2: 19337, 3: 17762}\n"
          ]
        }
      ],
      "source": [
        "unique, counts = np.unique(y_train, return_counts=True)\n",
        "label_dist = dict(zip(unique, counts))\n",
        "print(label_dist)\n",
        "unique, counts = np.unique(y_val, return_counts=True)\n",
        "label_dist = dict(zip(unique, counts))\n",
        "print(label_dist)\n",
        "unique, counts = np.unique(y_test, return_counts=True)\n",
        "label_dist = dict(zip(unique, counts))\n",
        "print(label_dist)"
      ],
      "id": "24a1efe3"
    },
    {
      "cell_type": "code",
      "execution_count": 21,
      "metadata": {
        "id": "199726ee"
      },
      "outputs": [],
      "source": [
        "y_train = to_categorical(y_train)\n",
        "y_val = to_categorical(y_val)\n",
        "y_test = to_categorical(y_test)"
      ],
      "id": "199726ee"
    },
    {
      "cell_type": "markdown",
      "metadata": {
        "id": "e080c56c"
      },
      "source": [
        "# Save and Load Datasets"
      ],
      "id": "e080c56c"
    },
    {
      "cell_type": "code",
      "execution_count": null,
      "metadata": {
        "id": "b796ca4a"
      },
      "outputs": [],
      "source": [
        "np.save('C:\\\\.Farhad\\\\.Telkom\\\\Emotion Recognition\\\\Datasets\\\\DREAMER\\\\x_train', np.array(x_train), allow_pickle=True, fix_imports=True)\n",
        "np.save('C:\\\\.Farhad\\\\.Telkom\\\\Emotion Recognition\\\\Datasets\\\\DREAMER\\\\y_train', np.array(y_train), allow_pickle=True, fix_imports=True)\n",
        "np.save('C:\\\\.Farhad\\\\.Telkom\\\\Emotion Recognition\\\\Datasets\\\\DREAMER\\\\x_val', np.array(x_val), allow_pickle=True, fix_imports=True)\n",
        "np.save('C:\\\\.Farhad\\\\.Telkom\\\\Emotion Recognition\\\\Datasets\\\\DREAMER\\\\y_val', np.array(y_val), allow_pickle=True, fix_imports=True)\n",
        "np.save('C:\\\\.Farhad\\\\.Telkom\\\\Emotion Recognition\\\\Datasets\\\\DREAMER\\\\x_test', np.array(x_test), allow_pickle=True, fix_imports=True)\n",
        "np.save('C:\\\\.Farhad\\\\.Telkom\\\\Emotion Recognition\\\\Datasets\\\\DREAMER\\\\y_test', np.array(y_test), allow_pickle=True, fix_imports=True)"
      ],
      "id": "b796ca4a"
    },
    {
      "cell_type": "code",
      "execution_count": null,
      "metadata": {
        "id": "b7169072"
      },
      "outputs": [],
      "source": [
        "with open('C:\\\\.Farhad\\\\.Telkom\\\\Emotion Recognition\\\\Datasets\\\\DEAP\\\\all\\\\x_train.npy', 'rb') as file:\n",
        "    x_train = np.load(file, allow_pickle=True)\n",
        "with open('C:\\\\.Farhad\\\\.Telkom\\\\Emotion Recognition\\\\Datasets\\\\DEAP\\\\all\\\\y_train.npy', 'rb') as file:\n",
        "    y_train = np.load(file, allow_pickle=True)\n",
        "with open('C:\\\\.Farhad\\\\.Telkom\\\\Emotion Recognition\\\\Datasets\\\\DEAP\\\\all\\\\x_val.npy', 'rb') as file:\n",
        "    x_val = np.load(file, allow_pickle=True)\n",
        "with open('C:\\\\.Farhad\\\\.Telkom\\\\Emotion Recognition\\\\Datasets\\\\DEAP\\\\all\\\\y_val.npy', 'rb') as file:\n",
        "    y_val = np.load(file, allow_pickle=True)\n",
        "with open('C:\\\\.Farhad\\\\.Telkom\\\\Emotion Recognition\\\\Datasets\\\\DEAP\\\\all\\\\x_test.npy', 'rb') as file:\n",
        "    x_test = np.load(file, allow_pickle=True)\n",
        "with open('C:\\\\.Farhad\\\\.Telkom\\\\Emotion Recognition\\\\Datasets\\\\DEAP\\\\all\\\\y_test.npy', 'rb') as file:\n",
        "    y_test = np.load(file, allow_pickle=True)"
      ],
      "id": "b7169072"
    },
    {
      "cell_type": "markdown",
      "metadata": {
        "id": "43b2f906"
      },
      "source": [
        "# Scaling and Normalization"
      ],
      "id": "43b2f906"
    },
    {
      "cell_type": "code",
      "execution_count": 22,
      "metadata": {
        "colab": {
          "base_uri": "https://localhost:8080/"
        },
        "id": "ac514e17",
        "outputId": "6423add4-6728-4006-8f99-b75b768ea178"
      },
      "outputs": [
        {
          "output_type": "stream",
          "name": "stdout",
          "text": [
            "(388864, 256)\n",
            "(388864, 4)\n",
            "(83328, 256)\n",
            "(83328, 4)\n",
            "(83328, 256)\n",
            "(83328, 4)\n"
          ]
        }
      ],
      "source": [
        "print(x_train.shape)\n",
        "print(y_train.shape)\n",
        "print(x_val.shape)\n",
        "print(y_val.shape)\n",
        "print(x_test.shape)\n",
        "print(y_test.shape)"
      ],
      "id": "ac514e17"
    },
    {
      "cell_type": "code",
      "execution_count": 23,
      "metadata": {
        "id": "a112381a"
      },
      "outputs": [],
      "source": [
        "scaler = StandardScaler()"
      ],
      "id": "a112381a"
    },
    {
      "cell_type": "code",
      "execution_count": 24,
      "metadata": {
        "id": "f345f6dc"
      },
      "outputs": [],
      "source": [
        "# 4 Normalization -> Standardization \n",
        "x_train = scaler.fit_transform(normalize(x_train))\n",
        "x_val = scaler.fit_transform(normalize(x_val))\n",
        "x_test = scaler.fit_transform(normalize(x_test))"
      ],
      "id": "f345f6dc"
    },
    {
      "cell_type": "markdown",
      "metadata": {
        "id": "d61e2c56"
      },
      "source": [
        "## Reshaping"
      ],
      "id": "d61e2c56"
    },
    {
      "cell_type": "code",
      "execution_count": 25,
      "metadata": {
        "id": "902d0523"
      },
      "outputs": [],
      "source": [
        "x_train = x_train.reshape(x_train.shape[0],x_train.shape[1], 1)\n",
        "x_val = x_val.reshape(x_val.shape[0],x_test.shape[1],1)\n",
        "x_test = x_test.reshape(x_test.shape[0],x_test.shape[1],1)"
      ],
      "id": "902d0523"
    },
    {
      "cell_type": "code",
      "execution_count": 26,
      "metadata": {
        "colab": {
          "base_uri": "https://localhost:8080/"
        },
        "id": "a93da52f",
        "outputId": "6522d7d8-5bf8-4227-9269-4f8a04925388"
      },
      "outputs": [
        {
          "output_type": "stream",
          "name": "stdout",
          "text": [
            "(388864, 256, 1)\n",
            "(83328, 256, 1)\n",
            "(83328, 256, 1)\n",
            "(388864, 4)\n",
            "(83328, 4)\n",
            "(83328, 4)\n"
          ]
        }
      ],
      "source": [
        "print(x_train.shape)\n",
        "print(x_val.shape)\n",
        "print(x_test.shape)\n",
        "\n",
        "print(y_train.shape)\n",
        "print(y_val.shape)\n",
        "print(y_test.shape)"
      ],
      "id": "a93da52f"
    },
    {
      "cell_type": "markdown",
      "metadata": {
        "id": "08aa1167"
      },
      "source": [
        "# Train Data"
      ],
      "id": "08aa1167"
    },
    {
      "cell_type": "code",
      "execution_count": 27,
      "metadata": {
        "colab": {
          "base_uri": "https://localhost:8080/"
        },
        "id": "fb1e031a",
        "outputId": "1c05e9b8-da64-42e9-dd8c-a863648b1974"
      },
      "outputs": [
        {
          "output_type": "stream",
          "name": "stdout",
          "text": [
            "(256, 1)\n"
          ]
        }
      ],
      "source": [
        "input_shape=(x_train.shape[1],x_train.shape[2])\n",
        "print(input_shape)"
      ],
      "id": "fb1e031a"
    },
    {
      "cell_type": "code",
      "execution_count": 31,
      "metadata": {
        "id": "83dfcc51"
      },
      "outputs": [],
      "source": [
        "batch_size = 16\n",
        "num_classes = 4\n",
        "epochs = 20"
      ],
      "id": "83dfcc51"
    },
    {
      "cell_type": "markdown",
      "metadata": {
        "id": "346a0fda"
      },
      "source": [
        "## Model 1: CONV1D"
      ],
      "id": "346a0fda"
    },
    {
      "cell_type": "code",
      "execution_count": 31,
      "metadata": {
        "colab": {
          "base_uri": "https://localhost:8080/"
        },
        "id": "6ef7eb9b",
        "outputId": "32b7b76f-ed21-47c5-8f81-0af025b79d2e"
      },
      "outputs": [
        {
          "output_type": "stream",
          "name": "stdout",
          "text": [
            "Model: \"sequential_1\"\n",
            "_________________________________________________________________\n",
            " Layer (type)                Output Shape              Param #   \n",
            "=================================================================\n",
            " conv1d_2 (Conv1D)           (None, 254, 128)          512       \n",
            "                                                                 \n",
            " max_pooling1d_2 (MaxPooling  (None, 127, 128)         0         \n",
            " 1D)                                                             \n",
            "                                                                 \n",
            " dropout_3 (Dropout)         (None, 127, 128)          0         \n",
            "                                                                 \n",
            " conv1d_3 (Conv1D)           (None, 125, 128)          49280     \n",
            "                                                                 \n",
            " max_pooling1d_3 (MaxPooling  (None, 62, 128)          0         \n",
            " 1D)                                                             \n",
            "                                                                 \n",
            " dropout_4 (Dropout)         (None, 62, 128)           0         \n",
            "                                                                 \n",
            " flatten_1 (Flatten)         (None, 7936)              0         \n",
            "                                                                 \n",
            " dense_2 (Dense)             (None, 128)               1015936   \n",
            "                                                                 \n",
            " dropout_5 (Dropout)         (None, 128)               0         \n",
            "                                                                 \n",
            " dense_3 (Dense)             (None, 4)                 516       \n",
            "                                                                 \n",
            " activation_1 (Activation)   (None, 4)                 0         \n",
            "                                                                 \n",
            "=================================================================\n",
            "Total params: 1,066,244\n",
            "Trainable params: 1,066,244\n",
            "Non-trainable params: 0\n",
            "_________________________________________________________________\n"
          ]
        }
      ],
      "source": [
        "model_1 = Sequential()\n",
        "\n",
        "model_1.add(Conv1D(128, 3, activation='relu', input_shape=input_shape))\n",
        "model_1.add(MaxPooling1D(pool_size=2))\n",
        "model_1.add(Dropout(0.2))\n",
        "\n",
        "model_1.add(Conv1D(128, 3,  activation='relu'))\n",
        "model_1.add(MaxPooling1D(pool_size=2))\n",
        "model_1.add(Dropout(0.2))\n",
        "\n",
        "model_1.add(Flatten())\n",
        "\n",
        "model_1.add(Dense(units = 128, activation='relu'))\n",
        "model_1.add(Dropout(0.2))\n",
        "\n",
        "model_1.add(Dense(units = num_classes))\n",
        "model_1.add(Activation('softmax'))\n",
        "\n",
        "model_1.summary()"
      ],
      "id": "6ef7eb9b"
    },
    {
      "cell_type": "code",
      "execution_count": 32,
      "metadata": {
        "id": "5786db84"
      },
      "outputs": [],
      "source": [
        "model_1.compile(\n",
        "    optimizer =\"adam\",\n",
        "    loss = 'categorical_crossentropy',\n",
        "    metrics=[\"accuracy\"]\n",
        ")"
      ],
      "id": "5786db84"
    },
    {
      "cell_type": "code",
      "execution_count": 33,
      "metadata": {
        "colab": {
          "base_uri": "https://localhost:8080/"
        },
        "id": "197bd2f6",
        "outputId": "a818ddca-e943-473e-f113-fcb117ae223c"
      },
      "outputs": [
        {
          "output_type": "stream",
          "name": "stdout",
          "text": [
            "Epoch 1/20\n",
            "20832/20832 [==============================] - 149s 7ms/step - loss: 1.3251 - accuracy: 0.3707 - val_loss: 1.1755 - val_accuracy: 0.4986\n",
            "Epoch 2/20\n",
            "20832/20832 [==============================] - 158s 8ms/step - loss: 1.1052 - accuracy: 0.5175 - val_loss: 0.8419 - val_accuracy: 0.7054\n",
            "Epoch 3/20\n",
            "20832/20832 [==============================] - 157s 8ms/step - loss: 0.9302 - accuracy: 0.6104 - val_loss: 0.6598 - val_accuracy: 0.7960\n",
            "Epoch 4/20\n",
            "20832/20832 [==============================] - 159s 8ms/step - loss: 0.8345 - accuracy: 0.6588 - val_loss: 0.5406 - val_accuracy: 0.8499\n",
            "Epoch 5/20\n",
            "20832/20832 [==============================] - 159s 8ms/step - loss: 0.7718 - accuracy: 0.6892 - val_loss: 0.4710 - val_accuracy: 0.8843\n",
            "Epoch 6/20\n",
            "20832/20832 [==============================] - 158s 8ms/step - loss: 0.7159 - accuracy: 0.7144 - val_loss: 0.4002 - val_accuracy: 0.9071\n",
            "Epoch 7/20\n",
            "20832/20832 [==============================] - 161s 8ms/step - loss: 0.6720 - accuracy: 0.7368 - val_loss: 0.3582 - val_accuracy: 0.9244\n",
            "Epoch 8/20\n",
            "20832/20832 [==============================] - 159s 8ms/step - loss: 0.6376 - accuracy: 0.7510 - val_loss: 0.3122 - val_accuracy: 0.9399\n",
            "Epoch 9/20\n",
            "20832/20832 [==============================] - 159s 8ms/step - loss: 0.6132 - accuracy: 0.7625 - val_loss: 0.2954 - val_accuracy: 0.9466\n",
            "Epoch 10/20\n",
            "20832/20832 [==============================] - 157s 8ms/step - loss: 0.5924 - accuracy: 0.7711 - val_loss: 0.2768 - val_accuracy: 0.9527\n",
            "Epoch 11/20\n",
            "20832/20832 [==============================] - 157s 8ms/step - loss: 0.5724 - accuracy: 0.7805 - val_loss: 0.2549 - val_accuracy: 0.9575\n",
            "Epoch 12/20\n",
            "20832/20832 [==============================] - 155s 7ms/step - loss: 0.5581 - accuracy: 0.7860 - val_loss: 0.2271 - val_accuracy: 0.9657\n",
            "Epoch 13/20\n",
            "20832/20832 [==============================] - 157s 8ms/step - loss: 0.5465 - accuracy: 0.7908 - val_loss: 0.2161 - val_accuracy: 0.9692\n",
            "Epoch 14/20\n",
            "20832/20832 [==============================] - 158s 8ms/step - loss: 0.5375 - accuracy: 0.7958 - val_loss: 0.2029 - val_accuracy: 0.9719\n",
            "Epoch 15/20\n",
            "20832/20832 [==============================] - 157s 8ms/step - loss: 0.5263 - accuracy: 0.8000 - val_loss: 0.1803 - val_accuracy: 0.9768\n",
            "Epoch 16/20\n",
            "20832/20832 [==============================] - 157s 8ms/step - loss: 0.5190 - accuracy: 0.8033 - val_loss: 0.2039 - val_accuracy: 0.9736\n",
            "Epoch 17/20\n",
            "20832/20832 [==============================] - 158s 8ms/step - loss: 0.5109 - accuracy: 0.8066 - val_loss: 0.1755 - val_accuracy: 0.9797\n",
            "Epoch 18/20\n",
            "20832/20832 [==============================] - 157s 8ms/step - loss: 0.5050 - accuracy: 0.8092 - val_loss: 0.1754 - val_accuracy: 0.9781\n",
            "Epoch 19/20\n",
            "20832/20832 [==============================] - 158s 8ms/step - loss: 0.4971 - accuracy: 0.8129 - val_loss: 0.1737 - val_accuracy: 0.9797\n",
            "Epoch 20/20\n",
            "20832/20832 [==============================] - 159s 8ms/step - loss: 0.4949 - accuracy: 0.8137 - val_loss: 0.1549 - val_accuracy: 0.9809\n"
          ]
        }
      ],
      "source": [
        "history_1 = model_1.fit(\n",
        "    x_train, \n",
        "    y_train,\n",
        "    epochs=epochs,\n",
        "    batch_size=batch_size,\n",
        "    verbose=1,\n",
        "    validation_data=(x_val, y_val),\n",
        "    callbacks=[\n",
        "        keras.callbacks.EarlyStopping(\n",
        "            monitor='val_loss',\n",
        "            patience=20,\n",
        "            restore_best_weights=True\n",
        "        )\n",
        "    ]\n",
        ")"
      ],
      "id": "197bd2f6"
    },
    {
      "cell_type": "code",
      "execution_count": null,
      "metadata": {
        "id": "1419823b",
        "colab": {
          "base_uri": "https://localhost:8080/"
        },
        "outputId": "6a025f15-0724-4925-bbcf-6edfe53de3aa"
      },
      "outputs": [
        {
          "output_type": "stream",
          "name": "stdout",
          "text": [
            "3472/3472 [==============================] - 19s 5ms/step - loss: 0.0338 - accuracy: 0.9992\n",
            "Test loss: 0.03377590328454971\n",
            "Test accuracy: 0.9992259740829468\n"
          ]
        }
      ],
      "source": [
        "score_1 = model_1.evaluate(x_test, y_test, verbose=1)\n",
        "print('Test loss:', score_1[0])\n",
        "print('Test accuracy:', score_1[1])"
      ],
      "id": "1419823b"
    },
    {
      "cell_type": "markdown",
      "metadata": {
        "id": "00df7eae"
      },
      "source": [
        "### Save Model"
      ],
      "id": "00df7eae"
    },
    {
      "cell_type": "code",
      "execution_count": null,
      "metadata": {
        "id": "0c527aa0"
      },
      "outputs": [],
      "source": [
        "model_1.save('/content/drive/MyDrive/Akhand Sir UGRP/Models/conv1d_model.h5')\n",
        "np.save('/content/drive/MyDrive/Akhand Sir UGRP/Models/conv1d_model.npy', history_1.history)"
      ],
      "id": "0c527aa0"
    },
    {
      "cell_type": "markdown",
      "source": [
        "# Model 2: GRU"
      ],
      "metadata": {
        "id": "DoAD8kHo5D09"
      },
      "id": "DoAD8kHo5D09"
    },
    {
      "cell_type": "code",
      "source": [
        "batch_size=256"
      ],
      "metadata": {
        "id": "ER8C4t2O8chR"
      },
      "id": "ER8C4t2O8chR",
      "execution_count": 32,
      "outputs": []
    },
    {
      "cell_type": "code",
      "execution_count": 33,
      "metadata": {
        "colab": {
          "base_uri": "https://localhost:8080/"
        },
        "outputId": "06425969-91af-4005-995e-cb78c3df1b76",
        "id": "gR1bAIWf48cz"
      },
      "outputs": [
        {
          "output_type": "stream",
          "name": "stdout",
          "text": [
            "Model: \"sequential_1\"\n",
            "_________________________________________________________________\n",
            " Layer (type)                Output Shape              Param #   \n",
            "=================================================================\n",
            " conv1d_1 (Conv1D)           (None, 254, 128)          512       \n",
            "                                                                 \n",
            " max_pooling1d_1 (MaxPooling  (None, 127, 128)         0         \n",
            " 1D)                                                             \n",
            "                                                                 \n",
            " dropout_4 (Dropout)         (None, 127, 128)          0         \n",
            "                                                                 \n",
            " gru_2 (GRU)                 (None, 127, 256)          296448    \n",
            "                                                                 \n",
            " dropout_5 (Dropout)         (None, 127, 256)          0         \n",
            "                                                                 \n",
            " gru_3 (GRU)                 (None, 32)                27840     \n",
            "                                                                 \n",
            " dropout_6 (Dropout)         (None, 32)                0         \n",
            "                                                                 \n",
            " flatten_1 (Flatten)         (None, 32)                0         \n",
            "                                                                 \n",
            " dense_1 (Dense)             (None, 128)               4224      \n",
            "                                                                 \n",
            " dropout_7 (Dropout)         (None, 128)               0         \n",
            "                                                                 \n",
            " dense_2 (Dense)             (None, 4)                 516       \n",
            "                                                                 \n",
            " activation (Activation)     (None, 4)                 0         \n",
            "                                                                 \n",
            "=================================================================\n",
            "Total params: 329,540\n",
            "Trainable params: 329,540\n",
            "Non-trainable params: 0\n",
            "_________________________________________________________________\n"
          ]
        }
      ],
      "source": [
        "model_2 = Sequential()\n",
        "\n",
        "model_2.add(Conv1D(128, 3, activation='relu', input_shape=input_shape))\n",
        "model_2.add(MaxPooling1D(pool_size=2))\n",
        "model_2.add(Dropout(0.2))\n",
        "\n",
        "model_2.add(GRU(units = 256, return_sequences=True))  \n",
        "model_2.add(Dropout(0.2))\n",
        "\n",
        "model_2.add(GRU(units = 32))\n",
        "model_2.add(Dropout(0.2))\n",
        "\n",
        "model_2.add(Flatten())\n",
        "\n",
        "model_2.add(Dense(units = 128, activation='relu'))\n",
        "model_2.add(Dropout(0.2))\n",
        "\n",
        "model_2.add(Dense(units = num_classes))\n",
        "model_2.add(Activation('softmax'))\n",
        "\n",
        "model_2.summary()"
      ],
      "id": "gR1bAIWf48cz"
    },
    {
      "cell_type": "code",
      "source": [
        "model_2.load_weights('/content/drive/MyDrive/Akhand Sir UGRP/Models/gru_model.h5')"
      ],
      "metadata": {
        "id": "I6-sexgK96ZV"
      },
      "id": "I6-sexgK96ZV",
      "execution_count": 37,
      "outputs": []
    },
    {
      "cell_type": "code",
      "execution_count": 38,
      "metadata": {
        "id": "a-7W2ke45N8P"
      },
      "outputs": [],
      "source": [
        "model_2.compile(\n",
        "    optimizer =\"adam\",\n",
        "    loss = 'categorical_crossentropy',\n",
        "    metrics=[\"accuracy\"]\n",
        ")"
      ],
      "id": "a-7W2ke45N8P"
    },
    {
      "cell_type": "code",
      "execution_count": 40,
      "metadata": {
        "colab": {
          "base_uri": "https://localhost:8080/"
        },
        "outputId": "1358ed7c-68cc-4c42-c59d-1e38aef887f4",
        "id": "G0miytFl5N8Q"
      },
      "outputs": [
        {
          "output_type": "stream",
          "name": "stdout",
          "text": [
            "Epoch 1/20\n",
            "1519/1519 [==============================] - 189s 114ms/step - loss: 0.3473 - accuracy: 0.8657 - val_loss: 0.2022 - val_accuracy: 0.9241\n",
            "Epoch 2/20\n",
            "1519/1519 [==============================] - 171s 113ms/step - loss: 0.3213 - accuracy: 0.8768 - val_loss: 0.1964 - val_accuracy: 0.9250\n",
            "Epoch 3/20\n",
            "1519/1519 [==============================] - 171s 113ms/step - loss: 0.3005 - accuracy: 0.8861 - val_loss: 0.1755 - val_accuracy: 0.9338\n",
            "Epoch 4/20\n",
            "1519/1519 [==============================] - 170s 112ms/step - loss: 0.2812 - accuracy: 0.8943 - val_loss: 0.1483 - val_accuracy: 0.9459\n",
            "Epoch 5/20\n",
            "1519/1519 [==============================] - 171s 112ms/step - loss: 0.2642 - accuracy: 0.9022 - val_loss: 0.1474 - val_accuracy: 0.9481\n",
            "Epoch 6/20\n",
            "1519/1519 [==============================] - 171s 113ms/step - loss: 0.2477 - accuracy: 0.9095 - val_loss: 0.1353 - val_accuracy: 0.9505\n",
            "Epoch 7/20\n",
            "1519/1519 [==============================] - 171s 113ms/step - loss: 0.2355 - accuracy: 0.9150 - val_loss: 0.1180 - val_accuracy: 0.9566\n",
            "Epoch 8/20\n",
            "1519/1519 [==============================] - 171s 112ms/step - loss: 0.2224 - accuracy: 0.9195 - val_loss: 0.0908 - val_accuracy: 0.9693\n",
            "Epoch 9/20\n",
            "1519/1519 [==============================] - 171s 112ms/step - loss: 0.2108 - accuracy: 0.9249 - val_loss: 0.0930 - val_accuracy: 0.9681\n",
            "Epoch 10/20\n",
            "1519/1519 [==============================] - 171s 112ms/step - loss: 0.2011 - accuracy: 0.9281 - val_loss: 0.0931 - val_accuracy: 0.9675\n",
            "Epoch 11/20\n",
            "1519/1519 [==============================] - 170s 112ms/step - loss: 0.1911 - accuracy: 0.9331 - val_loss: 0.0893 - val_accuracy: 0.9681\n",
            "Epoch 12/20\n",
            "1519/1519 [==============================] - 171s 113ms/step - loss: 0.1838 - accuracy: 0.9351 - val_loss: 0.0845 - val_accuracy: 0.9712\n",
            "Epoch 13/20\n",
            "1519/1519 [==============================] - 170s 112ms/step - loss: 0.1758 - accuracy: 0.9388 - val_loss: 0.0656 - val_accuracy: 0.9802\n",
            "Epoch 14/20\n",
            "1519/1519 [==============================] - 181s 119ms/step - loss: 0.1691 - accuracy: 0.9414 - val_loss: 0.0719 - val_accuracy: 0.9761\n",
            "Epoch 15/20\n",
            "1519/1519 [==============================] - 171s 112ms/step - loss: 0.1665 - accuracy: 0.9426 - val_loss: 0.0670 - val_accuracy: 0.9786\n",
            "Epoch 16/20\n",
            "1519/1519 [==============================] - 171s 113ms/step - loss: 0.1568 - accuracy: 0.9459 - val_loss: 0.0583 - val_accuracy: 0.9808\n",
            "Epoch 17/20\n",
            "1519/1519 [==============================] - 171s 112ms/step - loss: 0.1554 - accuracy: 0.9469 - val_loss: 0.0517 - val_accuracy: 0.9841\n",
            "Epoch 18/20\n",
            "1519/1519 [==============================] - 171s 112ms/step - loss: 0.1490 - accuracy: 0.9493 - val_loss: 0.0508 - val_accuracy: 0.9852\n",
            "Epoch 19/20\n",
            "1519/1519 [==============================] - 171s 113ms/step - loss: 0.1438 - accuracy: 0.9508 - val_loss: 0.0425 - val_accuracy: 0.9879\n",
            "Epoch 20/20\n",
            "1519/1519 [==============================] - 170s 112ms/step - loss: 0.1425 - accuracy: 0.9515 - val_loss: 0.0433 - val_accuracy: 0.9881\n"
          ]
        }
      ],
      "source": [
        "history_2 = model_2.fit(\n",
        "    x_train, \n",
        "    y_train,\n",
        "    epochs=epochs,\n",
        "    batch_size=batch_size,\n",
        "    verbose=1,\n",
        "    validation_data=(x_val, y_val),\n",
        "    callbacks=[\n",
        "        keras.callbacks.EarlyStopping(\n",
        "            monitor='val_loss',\n",
        "            patience=20,\n",
        "            restore_best_weights=True\n",
        "        )\n",
        "    ]\n",
        ")"
      ],
      "id": "G0miytFl5N8Q"
    },
    {
      "cell_type": "code",
      "execution_count": 41,
      "metadata": {
        "colab": {
          "base_uri": "https://localhost:8080/"
        },
        "id": "OoHvjaAE5N8R",
        "outputId": "e3392a62-cfa9-4038-c89a-2c4d9ee56c0d"
      },
      "outputs": [
        {
          "output_type": "stream",
          "name": "stdout",
          "text": [
            "2604/2604 [==============================] - 67s 25ms/step - loss: 0.0432 - accuracy: 0.9881\n",
            "Test loss: 0.04315100982785225\n",
            "Test accuracy: 0.9880832433700562\n"
          ]
        }
      ],
      "source": [
        "score_2 = model_2.evaluate(x_test, y_test, verbose=1)\n",
        "print('Test loss:', score_2[0])\n",
        "print('Test accuracy:', score_2[1])"
      ],
      "id": "OoHvjaAE5N8R"
    },
    {
      "cell_type": "markdown",
      "metadata": {
        "id": "6EvwT0nN5yG7"
      },
      "source": [
        "### Save Model"
      ],
      "id": "6EvwT0nN5yG7"
    },
    {
      "cell_type": "code",
      "execution_count": 42,
      "metadata": {
        "id": "Msb95Dav5yHf"
      },
      "outputs": [],
      "source": [
        "model_2.save('/content/drive/MyDrive/Akhand Sir UGRP/Models/gru_model.h5')\n",
        "np.save('/content/drive/MyDrive/Akhand Sir UGRP/Models/gru_model.npy', history_2.history)"
      ],
      "id": "Msb95Dav5yHf"
    },
    {
      "cell_type": "markdown",
      "metadata": {
        "id": "93482a61"
      },
      "source": [
        "## Model 3: LSTM"
      ],
      "id": "93482a61"
    },
    {
      "cell_type": "code",
      "execution_count": null,
      "metadata": {
        "id": "b22d6973"
      },
      "outputs": [],
      "source": [
        "factor = 0.01\n",
        "rate = 0.2"
      ],
      "id": "b22d6973"
    },
    {
      "cell_type": "code",
      "execution_count": null,
      "metadata": {
        "id": "4f9a8b55",
        "outputId": "bf95b2ef-74fd-4210-8cc5-11c045481760",
        "colab": {
          "base_uri": "https://localhost:8080/"
        }
      },
      "outputs": [
        {
          "output_type": "stream",
          "name": "stdout",
          "text": [
            "Model: \"sequential_2\"\n",
            "_________________________________________________________________\n",
            " Layer (type)                Output Shape              Param #   \n",
            "=================================================================\n",
            " conv1d_4 (Conv1D)           (None, 254, 128)          512       \n",
            "                                                                 \n",
            " max_pooling1d_4 (MaxPooling  (None, 127, 128)         0         \n",
            " 1D)                                                             \n",
            "                                                                 \n",
            " dropout_10 (Dropout)        (None, 127, 128)          0         \n",
            "                                                                 \n",
            " conv1d_5 (Conv1D)           (None, 125, 128)          49280     \n",
            "                                                                 \n",
            " max_pooling1d_5 (MaxPooling  (None, 62, 128)          0         \n",
            " 1D)                                                             \n",
            "                                                                 \n",
            " dropout_11 (Dropout)        (None, 62, 128)           0         \n",
            "                                                                 \n",
            " lstm (LSTM)                 (None, 62, 256)           394240    \n",
            "                                                                 \n",
            " dropout_12 (Dropout)        (None, 62, 256)           0         \n",
            "                                                                 \n",
            " lstm_1 (LSTM)               (None, 62, 128)           197120    \n",
            "                                                                 \n",
            " dropout_13 (Dropout)        (None, 62, 128)           0         \n",
            "                                                                 \n",
            " lstm_2 (LSTM)               (None, 62, 64)            49408     \n",
            "                                                                 \n",
            " dropout_14 (Dropout)        (None, 62, 64)            0         \n",
            "                                                                 \n",
            " lstm_3 (LSTM)               (None, 32)                12416     \n",
            "                                                                 \n",
            " dropout_15 (Dropout)        (None, 32)                0         \n",
            "                                                                 \n",
            " flatten_2 (Flatten)         (None, 32)                0         \n",
            "                                                                 \n",
            " dense_4 (Dense)             (None, 128)               4224      \n",
            "                                                                 \n",
            " dropout_16 (Dropout)        (None, 128)               0         \n",
            "                                                                 \n",
            " dense_5 (Dense)             (None, 4)                 516       \n",
            "                                                                 \n",
            " activation_2 (Activation)   (None, 4)                 0         \n",
            "                                                                 \n",
            "=================================================================\n",
            "Total params: 707,716\n",
            "Trainable params: 707,716\n",
            "Non-trainable params: 0\n",
            "_________________________________________________________________\n"
          ]
        }
      ],
      "source": [
        "model_3 = Sequential()\n",
        "\n",
        "model_3.add(Conv1D(128, 3, activation='relu', input_shape=input_shape))\n",
        "model_3.add(MaxPooling1D(pool_size=2))\n",
        "model_3.add(Dropout(rate))\n",
        "\n",
        "model_3.add(Conv1D(128, 3, activation='relu'))\n",
        "model_3.add(MaxPooling1D(pool_size=2))\n",
        "model_3.add(Dropout(rate))\n",
        "\n",
        "model_3.add(LSTM(units = 256, return_sequences=True))  \n",
        "model_3.add(Dropout(rate))\n",
        "\n",
        "model_3.add(LSTM(units = 128, return_sequences=True))  \n",
        "model_3.add(Dropout(rate))\n",
        "\n",
        "model_3.add(LSTM(units = 64, return_sequences=True))  \n",
        "model_3.add(Dropout(rate))\n",
        "\n",
        "model_3.add(LSTM(units = 32))\n",
        "model_3.add(Dropout(rate))\n",
        "\n",
        "model_3.add(Flatten())\n",
        "\n",
        "model_3.add(Dense(units = 128, activation='relu'))\n",
        "model_3.add(Dropout(rate))\n",
        "\n",
        "model_3.add(Dense(units = num_classes))\n",
        "model_3.add(Activation('softmax'))\n",
        "\n",
        "model_3.summary()"
      ],
      "id": "4f9a8b55"
    },
    {
      "cell_type": "code",
      "execution_count": null,
      "metadata": {
        "id": "6080574d"
      },
      "outputs": [],
      "source": [
        "model_3.compile(\n",
        "    optimizer =\"adam\",\n",
        "    loss = 'categorical_crossentropy',\n",
        "    metrics=[\"accuracy\"]\n",
        ")"
      ],
      "id": "6080574d"
    },
    {
      "cell_type": "code",
      "execution_count": null,
      "metadata": {
        "id": "ed67502b",
        "colab": {
          "base_uri": "https://localhost:8080/"
        },
        "outputId": "d1b5125f-da30-4514-9ecd-c2c76d3f7979"
      },
      "outputs": [
        {
          "output_type": "stream",
          "name": "stdout",
          "text": [
            "Epoch 1/20\n",
            "1302/1302 [==============================] - 75s 54ms/step - loss: 1.3653 - accuracy: 0.3425 - val_loss: 1.3650 - val_accuracy: 0.3428\n",
            "Epoch 2/20\n",
            "1302/1302 [==============================] - 69s 53ms/step - loss: 1.3644 - accuracy: 0.3430 - val_loss: 1.3645 - val_accuracy: 0.3428\n",
            "Epoch 3/20\n",
            "1302/1302 [==============================] - 66s 51ms/step - loss: 1.3643 - accuracy: 0.3430 - val_loss: 1.3643 - val_accuracy: 0.3428\n",
            "Epoch 4/20\n",
            "1302/1302 [==============================] - 66s 50ms/step - loss: 1.3643 - accuracy: 0.3430 - val_loss: 1.3643 - val_accuracy: 0.3428\n",
            "Epoch 5/20\n",
            "1302/1302 [==============================] - 66s 50ms/step - loss: 1.3642 - accuracy: 0.3430 - val_loss: 1.3643 - val_accuracy: 0.3428\n",
            "Epoch 6/20\n",
            "1302/1302 [==============================] - 69s 53ms/step - loss: 1.3642 - accuracy: 0.3430 - val_loss: 1.3644 - val_accuracy: 0.3428\n",
            "Epoch 7/20\n",
            "1302/1302 [==============================] - 66s 51ms/step - loss: 1.3642 - accuracy: 0.3430 - val_loss: 1.3644 - val_accuracy: 0.3428\n",
            "Epoch 8/20\n",
            "1302/1302 [==============================] - 66s 51ms/step - loss: 1.3642 - accuracy: 0.3430 - val_loss: 1.3644 - val_accuracy: 0.3428\n",
            "Epoch 9/20\n",
            "1302/1302 [==============================] - 66s 50ms/step - loss: 1.3642 - accuracy: 0.3430 - val_loss: 1.3643 - val_accuracy: 0.3428\n",
            "Epoch 10/20\n",
            "1302/1302 [==============================] - 69s 53ms/step - loss: 1.3642 - accuracy: 0.3430 - val_loss: 1.3643 - val_accuracy: 0.3428\n",
            "Epoch 11/20\n",
            "1302/1302 [==============================] - 66s 51ms/step - loss: 1.3642 - accuracy: 0.3430 - val_loss: 1.3643 - val_accuracy: 0.3428\n",
            "Epoch 12/20\n",
            "1302/1302 [==============================] - 66s 50ms/step - loss: 1.3642 - accuracy: 0.3430 - val_loss: 1.3644 - val_accuracy: 0.3428\n",
            "Epoch 13/20\n",
            "1302/1302 [==============================] - 69s 53ms/step - loss: 1.3642 - accuracy: 0.3430 - val_loss: 1.3644 - val_accuracy: 0.3428\n",
            "Epoch 14/20\n",
            "1302/1302 [==============================] - 68s 53ms/step - loss: 1.3642 - accuracy: 0.3430 - val_loss: 1.3643 - val_accuracy: 0.3428\n",
            "Epoch 15/20\n",
            "1302/1302 [==============================] - 63s 49ms/step - loss: 1.3642 - accuracy: 0.3430 - val_loss: 1.3644 - val_accuracy: 0.3428\n",
            "Epoch 16/20\n",
            "1302/1302 [==============================] - 67s 52ms/step - loss: 1.3642 - accuracy: 0.3430 - val_loss: 1.3644 - val_accuracy: 0.3428\n",
            "Epoch 17/20\n",
            "1302/1302 [==============================] - 67s 51ms/step - loss: 1.3642 - accuracy: 0.3430 - val_loss: 1.3643 - val_accuracy: 0.3428\n",
            "Epoch 18/20\n",
            "1302/1302 [==============================] - 63s 49ms/step - loss: 1.3642 - accuracy: 0.3430 - val_loss: 1.3644 - val_accuracy: 0.3428\n",
            "Epoch 19/20\n",
            "1302/1302 [==============================] - 67s 51ms/step - loss: 1.3642 - accuracy: 0.3430 - val_loss: 1.3643 - val_accuracy: 0.3428\n",
            "Epoch 20/20\n",
            "1302/1302 [==============================] - 65s 50ms/step - loss: 1.3642 - accuracy: 0.3430 - val_loss: 1.3644 - val_accuracy: 0.3428\n"
          ]
        }
      ],
      "source": [
        "history_3 = model_3.fit(\n",
        "    x_train, \n",
        "    y_train,\n",
        "    epochs=epochs,\n",
        "    batch_size=batch_size,\n",
        "    verbose=1,\n",
        "    validation_data=(x_val, y_val),\n",
        "    callbacks=[\n",
        "        keras.callbacks.EarlyStopping(\n",
        "            monitor='val_loss',\n",
        "            patience=20,\n",
        "            restore_best_weights=True\n",
        "        )\n",
        "    ]\n",
        ")"
      ],
      "id": "ed67502b"
    },
    {
      "cell_type": "code",
      "execution_count": null,
      "metadata": {
        "id": "6627978b",
        "outputId": "ce7866d1-3ae1-46a7-ec4d-97aeeec3023d",
        "colab": {
          "base_uri": "https://localhost:8080/"
        }
      },
      "outputs": [
        {
          "output_type": "stream",
          "name": "stdout",
          "text": [
            "3472/3472 [==============================] - 30s 8ms/step - loss: 1.3641 - accuracy: 0.3431\n",
            "Test loss: 1.3640587329864502\n",
            "Test accuracy: 0.343146950006485\n"
          ]
        }
      ],
      "source": [
        "score_3 = model_3.evaluate(x_test, y_test, verbose=1)\n",
        "print('Test loss:', score_3[0])\n",
        "print('Test accuracy:', score_3[1])"
      ],
      "id": "6627978b"
    },
    {
      "cell_type": "markdown",
      "metadata": {
        "id": "269d3454"
      },
      "source": [
        "### Save Model"
      ],
      "id": "269d3454"
    },
    {
      "cell_type": "code",
      "execution_count": null,
      "metadata": {
        "id": "a2f07334"
      },
      "outputs": [],
      "source": [
        "model_3.save('/content/drive/MyDrive/Akhand Sir UGRP/Models/lstm_model.h5')\n",
        "np.save('/content/drive/MyDrive/Akhand Sir UGRP/Models/lstm_model.npy', history_3.history)"
      ],
      "id": "a2f07334"
    },
    {
      "cell_type": "markdown",
      "metadata": {
        "id": "839ecf3d"
      },
      "source": [
        "# Load Model, Results, and Model Analysis"
      ],
      "id": "839ecf3d"
    },
    {
      "cell_type": "markdown",
      "metadata": {
        "id": "7_rQ1kLY6yE-"
      },
      "source": [
        "## CONV1D Model"
      ],
      "id": "7_rQ1kLY6yE-"
    },
    {
      "cell_type": "code",
      "execution_count": null,
      "metadata": {
        "outputId": "44b3b062-8441-41f3-9312-58c72ed84d70",
        "colab": {
          "base_uri": "https://localhost:8080/"
        },
        "id": "lR7DgCpf6yE_"
      },
      "outputs": [
        {
          "output_type": "stream",
          "name": "stdout",
          "text": [
            "Model: \"sequential\"\n",
            "_________________________________________________________________\n",
            " Layer (type)                Output Shape              Param #   \n",
            "=================================================================\n",
            " conv1d (Conv1D)             (None, 254, 128)          512       \n",
            "                                                                 \n",
            " max_pooling1d (MaxPooling1D  (None, 127, 128)         0         \n",
            " )                                                               \n",
            "                                                                 \n",
            " dropout (Dropout)           (None, 127, 128)          0         \n",
            "                                                                 \n",
            " conv1d_1 (Conv1D)           (None, 125, 128)          49280     \n",
            "                                                                 \n",
            " max_pooling1d_1 (MaxPooling  (None, 62, 128)          0         \n",
            " 1D)                                                             \n",
            "                                                                 \n",
            " dropout_1 (Dropout)         (None, 62, 128)           0         \n",
            "                                                                 \n",
            " flatten (Flatten)           (None, 7936)              0         \n",
            "                                                                 \n",
            " dense (Dense)               (None, 128)               1015936   \n",
            "                                                                 \n",
            " dropout_2 (Dropout)         (None, 128)               0         \n",
            "                                                                 \n",
            " dense_1 (Dense)             (None, 4)                 516       \n",
            "                                                                 \n",
            " activation (Activation)     (None, 4)                 0         \n",
            "                                                                 \n",
            "=================================================================\n",
            "Total params: 1,066,244\n",
            "Trainable params: 1,066,244\n",
            "Non-trainable params: 0\n",
            "_________________________________________________________________\n"
          ]
        }
      ],
      "source": [
        "directory = '/content/drive/MyDrive/Akhand Sir UGRP/Models/conv1d_model.h5'\n",
        "lstm_model = load_model(directory)\n",
        "lstm_model.summary()"
      ],
      "id": "lR7DgCpf6yE_"
    },
    {
      "cell_type": "code",
      "execution_count": null,
      "metadata": {
        "colab": {
          "base_uri": "https://localhost:8080/"
        },
        "id": "PIwwP5Je6yFA",
        "outputId": "583891ae-7c22-4e08-c478-66a92e27df3d"
      },
      "outputs": [
        {
          "output_type": "execute_result",
          "data": {
            "text/plain": [
              "dict_keys(['loss', 'accuracy', 'val_loss', 'val_accuracy'])"
            ]
          },
          "metadata": {},
          "execution_count": 35
        }
      ],
      "source": [
        "lstm_history = np.load('/content/drive/MyDrive/Akhand Sir UGRP/Models/conv1d_model.npy',allow_pickle='TRUE').item()\n",
        "lstm_history.keys()"
      ],
      "id": "PIwwP5Je6yFA"
    },
    {
      "cell_type": "code",
      "execution_count": null,
      "metadata": {
        "colab": {
          "base_uri": "https://localhost:8080/"
        },
        "id": "ZPxLsDAp6yFB",
        "outputId": "bd10ffa2-775f-4495-8b50-adfc27f17099"
      },
      "outputs": [
        {
          "output_type": "stream",
          "name": "stdout",
          "text": [
            "Training Accuracy:  0.897015392780304\n",
            "Training Loss:  0.28046274185180664\n",
            "Validation Accuracy:  0.9992889761924744\n",
            "Validation Loss:  0.033628929406404495\n"
          ]
        }
      ],
      "source": [
        "print(\"Training Accuracy: \", np.max(lstm_history['accuracy']))\n",
        "print(\"Training Loss: \", np.min(lstm_history['loss']))\n",
        "print(\"Validation Accuracy: \", np.max(lstm_history['val_accuracy']))\n",
        "print(\"Validation Loss: \", np.min(lstm_history['val_loss']))"
      ],
      "id": "ZPxLsDAp6yFB"
    },
    {
      "cell_type": "code",
      "execution_count": null,
      "metadata": {
        "colab": {
          "base_uri": "https://localhost:8080/",
          "height": 305
        },
        "id": "NU5OBjO06yFC",
        "outputId": "38124abb-d116-45bd-dd7b-0cd694dbdbbd"
      },
      "outputs": [
        {
          "output_type": "display_data",
          "data": {
            "text/plain": [
              "<Figure size 432x288 with 1 Axes>"
            ],
            "image/png": "[encoded data removed]"
          },
          "metadata": {
            "needs_background": "light"
          }
        }
      ],
      "source": [
        "# summarize history for accuracy\n",
        "plt.plot(lstm_history['accuracy'])\n",
        "plt.plot(lstm_history['val_accuracy'])\n",
        "plt.title('CONV1D model accuracy', fontsize=16)\n",
        "plt.ylabel('accuracy', fontsize=14)\n",
        "plt.xlabel('epoch', fontsize=14)\n",
        "plt.xticks(fontsize=14)\n",
        "plt.yticks(fontsize=14)\n",
        "plt.legend(['train', 'validation'], loc='upper left', fontsize=12)\n",
        "plt.show()"
      ],
      "id": "NU5OBjO06yFC"
    },
    {
      "cell_type": "code",
      "execution_count": null,
      "metadata": {
        "colab": {
          "base_uri": "https://localhost:8080/",
          "height": 305
        },
        "id": "WEYyBSId6yFD",
        "outputId": "a4ca219b-6a90-4ea7-a1c5-ab56504a4fa2"
      },
      "outputs": [
        {
          "output_type": "display_data",
          "data": {
            "text/plain": [
              "<Figure size 432x288 with 1 Axes>"
            ],
            "image/png": "[encoded data removed]"
          },
          "metadata": {
            "needs_background": "light"
          }
        }
      ],
      "source": [
        "# summarize history for loss\n",
        "plt.plot(lstm_history['loss'])\n",
        "plt.plot(lstm_history['val_loss'])\n",
        "plt.title('CONV1D model accuracy', fontsize=16)\n",
        "plt.ylabel('loss', fontsize=14)\n",
        "plt.xlabel('epoch', fontsize=14)\n",
        "plt.xticks(fontsize=14)\n",
        "plt.yticks(fontsize=14)\n",
        "plt.legend(['train', 'validation'], loc='upper left', fontsize=12)\n",
        "plt.show()"
      ],
      "id": "WEYyBSId6yFD"
    },
    {
      "cell_type": "code",
      "execution_count": null,
      "metadata": {
        "colab": {
          "base_uri": "https://localhost:8080/",
          "height": 743
        },
        "id": "fVggOsoI6yFE",
        "outputId": "b53531b2-2431-4cb6-a582-ec25c1c61f35"
      },
      "outputs": [
        {
          "output_type": "display_data",
          "data": {
            "text/plain": [
              "<Figure size 576x576 with 1 Axes>"
            ],
            "image/png": "[encoded data removed]"
          },
          "metadata": {
            "needs_background": "light"
          }
        },
        {
          "output_type": "stream",
          "name": "stdout",
          "text": [
            "Classification Report:\n",
            "----------------------\n",
            "               precision    recall  f1-score   support\n",
            "\n",
            "           0       1.00      1.00      1.00     38125\n",
            "           1       1.00      1.00      1.00     23338\n",
            "           2       1.00      1.00      1.00     25918\n",
            "           3       1.00      1.00      1.00     23723\n",
            "\n",
            "    accuracy                           1.00    111104\n",
            "   macro avg       1.00      1.00      1.00    111104\n",
            "weighted avg       1.00      1.00      1.00    111104\n",
            "\n"
          ]
        }
      ],
      "source": [
        "class_names = ['HVHA', 'HVLA', 'LVHA', 'LVLA']\n",
        "\n",
        "y_pred = lstm_model.predict(x_test)\n",
        "\n",
        "y_predict = []\n",
        "\n",
        "for i in range(len(y_pred)):\n",
        "    y_predict.append(np.argmax(y_pred[i]))\n",
        "\n",
        "y_predict = np.array(y_predict)\n",
        "yt_test = np.argmax(y_test, axis=1)\n",
        "\n",
        "cm = confusion_matrix(yt_test, y_predict)\n",
        "clr = classification_report(yt_test, y_predict)\n",
        "\n",
        "plt.figure(figsize=(8, 8))\n",
        "sns.heatmap(cm, annot=True, vmin=0, fmt='g', cbar=False, cmap='Blues', annot_kws={\"size\":14})\n",
        "plt.xticks(np.arange(4) + 0.5, class_names, fontsize=14)\n",
        "plt.yticks(np.arange(4) + 0.5, class_names, fontsize=14)\n",
        "plt.xlabel(\"Predicted\", fontsize=14)\n",
        "plt.ylabel(\"Actual\", fontsize=14)\n",
        "# plt.title(\"Confusion Matrix for LSTM Model\")\n",
        "plt.show()\n",
        "\n",
        "print(\"Classification Report:\\n----------------------\\n\", clr)"
      ],
      "id": "fVggOsoI6yFE"
    },
    {
      "cell_type": "markdown",
      "metadata": {
        "id": "6b865e02"
      },
      "source": [
        "## GRU Model"
      ],
      "id": "6b865e02"
    },
    {
      "cell_type": "code",
      "execution_count": 43,
      "metadata": {
        "id": "37aa4cf6",
        "outputId": "99536e96-fff4-4aca-945b-8713b39d9a41",
        "colab": {
          "base_uri": "https://localhost:8080/"
        }
      },
      "outputs": [
        {
          "output_type": "stream",
          "name": "stdout",
          "text": [
            "Model: \"sequential_1\"\n",
            "_________________________________________________________________\n",
            " Layer (type)                Output Shape              Param #   \n",
            "=================================================================\n",
            " conv1d_1 (Conv1D)           (None, 254, 128)          512       \n",
            "                                                                 \n",
            " max_pooling1d_1 (MaxPooling  (None, 127, 128)         0         \n",
            " 1D)                                                             \n",
            "                                                                 \n",
            " dropout_4 (Dropout)         (None, 127, 128)          0         \n",
            "                                                                 \n",
            " gru_2 (GRU)                 (None, 127, 256)          296448    \n",
            "                                                                 \n",
            " dropout_5 (Dropout)         (None, 127, 256)          0         \n",
            "                                                                 \n",
            " gru_3 (GRU)                 (None, 32)                27840     \n",
            "                                                                 \n",
            " dropout_6 (Dropout)         (None, 32)                0         \n",
            "                                                                 \n",
            " flatten_1 (Flatten)         (None, 32)                0         \n",
            "                                                                 \n",
            " dense_1 (Dense)             (None, 128)               4224      \n",
            "                                                                 \n",
            " dropout_7 (Dropout)         (None, 128)               0         \n",
            "                                                                 \n",
            " dense_2 (Dense)             (None, 4)                 516       \n",
            "                                                                 \n",
            " activation (Activation)     (None, 4)                 0         \n",
            "                                                                 \n",
            "=================================================================\n",
            "Total params: 329,540\n",
            "Trainable params: 329,540\n",
            "Non-trainable params: 0\n",
            "_________________________________________________________________\n"
          ]
        }
      ],
      "source": [
        "directory = '/content/drive/MyDrive/Akhand Sir UGRP/Models/gru_model.h5'\n",
        "gru_model = load_model(directory)\n",
        "gru_model.summary()"
      ],
      "id": "37aa4cf6"
    },
    {
      "cell_type": "code",
      "execution_count": 44,
      "metadata": {
        "id": "19443330",
        "outputId": "df77a937-e936-4719-b4b4-a7bb726f0972",
        "colab": {
          "base_uri": "https://localhost:8080/"
        }
      },
      "outputs": [
        {
          "output_type": "execute_result",
          "data": {
            "text/plain": [
              "dict_keys(['loss', 'accuracy', 'val_loss', 'val_accuracy'])"
            ]
          },
          "metadata": {},
          "execution_count": 44
        }
      ],
      "source": [
        "gru_history = np.load('/content/drive/MyDrive/Akhand Sir UGRP/Models/gru_model.npy',allow_pickle='TRUE').item()\n",
        "gru_history.keys()"
      ],
      "id": "19443330"
    },
    {
      "cell_type": "code",
      "execution_count": 45,
      "metadata": {
        "id": "48a8b9e2",
        "outputId": "ac7b18dc-59fb-4c1e-aca4-c61f2d39be23",
        "colab": {
          "base_uri": "https://localhost:8080/"
        }
      },
      "outputs": [
        {
          "output_type": "stream",
          "name": "stdout",
          "text": [
            "Training Accuracy:  0.9514766335487366\n",
            "Training Loss:  0.14246921241283417\n",
            "Validation Accuracy:  0.9880592226982117\n",
            "Validation Loss:  0.04250926896929741\n"
          ]
        }
      ],
      "source": [
        "print(\"Training Accuracy: \", np.max(gru_history['accuracy']))\n",
        "print(\"Training Loss: \", np.min(gru_history['loss']))\n",
        "print(\"Validation Accuracy: \", np.max(gru_history['val_accuracy']))\n",
        "print(\"Validation Loss: \", np.min(gru_history['val_loss']))"
      ],
      "id": "48a8b9e2"
    },
    {
      "cell_type": "code",
      "execution_count": 46,
      "metadata": {
        "id": "95440c44",
        "outputId": "30f5fd83-0e71-4e67-e88e-4010fa03b25f",
        "colab": {
          "base_uri": "https://localhost:8080/",
          "height": 305
        }
      },
      "outputs": [
        {
          "output_type": "display_data",
          "data": {
            "text/plain": [
              "<Figure size 432x288 with 1 Axes>"
            ],
            "image/png": "[encoded data removed]"
          },
          "metadata": {
            "needs_background": "light"
          }
        }
      ],
      "source": [
        "# summarize history for accuracy\n",
        "plt.plot(gru_history['accuracy'])\n",
        "plt.plot(gru_history['val_accuracy'])\n",
        "plt.title('GRU model accuracy', fontsize=16)\n",
        "plt.ylabel('accuracy', fontsize=14)\n",
        "plt.xlabel('epoch', fontsize=14)\n",
        "plt.xticks(fontsize=14)\n",
        "plt.yticks(fontsize=14)\n",
        "plt.legend(['train', 'validation'], loc='upper left', fontsize=12)\n",
        "plt.show()"
      ],
      "id": "95440c44"
    },
    {
      "cell_type": "code",
      "execution_count": 47,
      "metadata": {
        "id": "1e10e8d5",
        "outputId": "cebfd0c8-4ee6-453d-b201-06f19a846807",
        "colab": {
          "base_uri": "https://localhost:8080/",
          "height": 305
        }
      },
      "outputs": [
        {
          "output_type": "display_data",
          "data": {
            "text/plain": [
              "<Figure size 432x288 with 1 Axes>"
            ],
            "image/png": "[encoded data removed]"
          },
          "metadata": {
            "needs_background": "light"
          }
        }
      ],
      "source": [
        "# summarize history for loss\n",
        "plt.plot(gru_history['loss'])\n",
        "plt.plot(gru_history['val_loss'])\n",
        "plt.title('GRU model loss', fontsize=16)\n",
        "plt.ylabel('loss', fontsize=14)\n",
        "plt.xlabel('epoch', fontsize=14)\n",
        "plt.xticks(fontsize=14)\n",
        "plt.yticks(fontsize=14)\n",
        "plt.legend(['train', 'validation'], loc='upper left', fontsize=12)\n",
        "plt.show()"
      ],
      "id": "1e10e8d5"
    },
    {
      "cell_type": "code",
      "execution_count": 48,
      "metadata": {
        "id": "6cf27625",
        "outputId": "ad8db269-59c9-480d-accf-de2f8290e6d0",
        "colab": {
          "base_uri": "https://localhost:8080/",
          "height": 743
        }
      },
      "outputs": [
        {
          "output_type": "display_data",
          "data": {
            "text/plain": [
              "<Figure size 576x576 with 1 Axes>"
            ],
            "image/png": "[encoded data removed]"
          },
          "metadata": {
            "needs_background": "light"
          }
        },
        {
          "output_type": "stream",
          "name": "stdout",
          "text": [
            "Classification Report:\n",
            "----------------------\n",
            "               precision    recall  f1-score   support\n",
            "\n",
            "           0       0.99      1.00      0.99     28795\n",
            "           1       0.99      0.98      0.99     17434\n",
            "           2       0.99      0.98      0.99     19337\n",
            "           3       0.98      0.99      0.98     17762\n",
            "\n",
            "    accuracy                           0.99     83328\n",
            "   macro avg       0.99      0.99      0.99     83328\n",
            "weighted avg       0.99      0.99      0.99     83328\n",
            "\n"
          ]
        }
      ],
      "source": [
        "class_names = ['HVHA', 'HVLA', 'LVHA', 'LVLA']\n",
        "\n",
        "y_pred = gru_model.predict(x_test)\n",
        "\n",
        "y_predict = []\n",
        "\n",
        "for i in range(len(y_pred)):\n",
        "    y_predict.append(np.argmax(y_pred[i]))\n",
        "\n",
        "y_predict = np.array(y_predict)\n",
        "yt_test = np.argmax(y_test, axis=1)\n",
        "\n",
        "cm = confusion_matrix(yt_test, y_predict)\n",
        "clr = classification_report(yt_test, y_predict)\n",
        "\n",
        "plt.figure(figsize=(8, 8))\n",
        "sns.heatmap(cm, annot=True, vmin=0, fmt='g', cbar=False, cmap='Blues', annot_kws={\"size\":14})\n",
        "plt.xticks(np.arange(4) + 0.5, class_names, fontsize=14)\n",
        "plt.yticks(np.arange(4) + 0.5, class_names, fontsize=14)\n",
        "plt.xlabel(\"Predicted\", fontsize=14)\n",
        "plt.ylabel(\"Actual\", fontsize=14)\n",
        "# plt.title(\"Confusion Matrix for GRU Model\")\n",
        "plt.show()\n",
        "\n",
        "print(\"Classification Report:\\n----------------------\\n\", clr)"
      ],
      "id": "6cf27625"
    },
    {
      "cell_type": "markdown",
      "metadata": {
        "id": "9ce43f39"
      },
      "source": [
        "## LSTM Model"
      ],
      "id": "9ce43f39"
    },
    {
      "cell_type": "code",
      "execution_count": null,
      "metadata": {
        "id": "5e79878f",
        "outputId": "c45963dd-078b-45f0-ffc6-86a5fcfb0a1a",
        "colab": {
          "base_uri": "https://localhost:8080/"
        }
      },
      "outputs": [
        {
          "output_type": "stream",
          "name": "stdout",
          "text": [
            "Model: \"sequential_2\"\n",
            "_________________________________________________________________\n",
            " Layer (type)                Output Shape              Param #   \n",
            "=================================================================\n",
            " conv1d_4 (Conv1D)           (None, 254, 128)          512       \n",
            "                                                                 \n",
            " max_pooling1d_4 (MaxPooling  (None, 127, 128)         0         \n",
            " 1D)                                                             \n",
            "                                                                 \n",
            " dropout_10 (Dropout)        (None, 127, 128)          0         \n",
            "                                                                 \n",
            " conv1d_5 (Conv1D)           (None, 125, 128)          49280     \n",
            "                                                                 \n",
            " max_pooling1d_5 (MaxPooling  (None, 62, 128)          0         \n",
            " 1D)                                                             \n",
            "                                                                 \n",
            " dropout_11 (Dropout)        (None, 62, 128)           0         \n",
            "                                                                 \n",
            " lstm (LSTM)                 (None, 62, 256)           394240    \n",
            "                                                                 \n",
            " dropout_12 (Dropout)        (None, 62, 256)           0         \n",
            "                                                                 \n",
            " lstm_1 (LSTM)               (None, 62, 128)           197120    \n",
            "                                                                 \n",
            " dropout_13 (Dropout)        (None, 62, 128)           0         \n",
            "                                                                 \n",
            " lstm_2 (LSTM)               (None, 62, 64)            49408     \n",
            "                                                                 \n",
            " dropout_14 (Dropout)        (None, 62, 64)            0         \n",
            "                                                                 \n",
            " lstm_3 (LSTM)               (None, 32)                12416     \n",
            "                                                                 \n",
            " dropout_15 (Dropout)        (None, 32)                0         \n",
            "                                                                 \n",
            " flatten_2 (Flatten)         (None, 32)                0         \n",
            "                                                                 \n",
            " dense_4 (Dense)             (None, 128)               4224      \n",
            "                                                                 \n",
            " dropout_16 (Dropout)        (None, 128)               0         \n",
            "                                                                 \n",
            " dense_5 (Dense)             (None, 4)                 516       \n",
            "                                                                 \n",
            " activation_2 (Activation)   (None, 4)                 0         \n",
            "                                                                 \n",
            "=================================================================\n",
            "Total params: 707,716\n",
            "Trainable params: 707,716\n",
            "Non-trainable params: 0\n",
            "_________________________________________________________________\n"
          ]
        }
      ],
      "source": [
        "directory = '/content/drive/MyDrive/Akhand Sir UGRP/Models/lstm_model.h5'\n",
        "lstm_model = load_model(directory)\n",
        "lstm_model.summary()"
      ],
      "id": "5e79878f"
    },
    {
      "cell_type": "code",
      "execution_count": null,
      "metadata": {
        "id": "3998a729",
        "colab": {
          "base_uri": "https://localhost:8080/"
        },
        "outputId": "418cfb97-fdd6-4df2-88cb-b6fa97bf8706"
      },
      "outputs": [
        {
          "output_type": "execute_result",
          "data": {
            "text/plain": [
              "dict_keys(['loss', 'accuracy', 'val_loss', 'val_accuracy'])"
            ]
          },
          "metadata": {},
          "execution_count": 47
        }
      ],
      "source": [
        "lstm_history = np.load('/content/drive/MyDrive/Akhand Sir UGRP/Models/lstm_model.npy',allow_pickle='TRUE').item()\n",
        "lstm_history.keys()"
      ],
      "id": "3998a729"
    },
    {
      "cell_type": "code",
      "execution_count": null,
      "metadata": {
        "id": "311db35a",
        "colab": {
          "base_uri": "https://localhost:8080/"
        },
        "outputId": "62de2388-65ad-4580-e995-d98cca37dedf"
      },
      "outputs": [
        {
          "output_type": "stream",
          "name": "stdout",
          "text": [
            "Training Accuracy:  0.34295496344566345\n",
            "Training Loss:  1.3641555309295654\n",
            "Validation Accuracy:  0.34283193945884705\n",
            "Validation Loss:  1.3642781972885132\n"
          ]
        }
      ],
      "source": [
        "print(\"Training Accuracy: \", np.max(lstm_history['accuracy']))\n",
        "print(\"Training Loss: \", np.min(lstm_history['loss']))\n",
        "print(\"Validation Accuracy: \", np.max(lstm_history['val_accuracy']))\n",
        "print(\"Validation Loss: \", np.min(lstm_history['val_loss']))"
      ],
      "id": "311db35a"
    },
    {
      "cell_type": "code",
      "execution_count": null,
      "metadata": {
        "id": "d227add8",
        "colab": {
          "base_uri": "https://localhost:8080/",
          "height": 305
        },
        "outputId": "5d1982d4-eabd-45ba-b964-6c003330b4da"
      },
      "outputs": [
        {
          "output_type": "display_data",
          "data": {
            "text/plain": [
              "<Figure size 432x288 with 1 Axes>"
            ],
            "image/png": "[encoded data removed]"
          },
          "metadata": {
            "needs_background": "light"
          }
        }
      ],
      "source": [
        "# summarize history for accuracy\n",
        "plt.plot(lstm_history['accuracy'])\n",
        "plt.plot(lstm_history['val_accuracy'])\n",
        "plt.title('LSTM model accuracy', fontsize=16)\n",
        "plt.ylabel('accuracy', fontsize=14)\n",
        "plt.xlabel('epoch', fontsize=14)\n",
        "plt.xticks(fontsize=14)\n",
        "plt.yticks(fontsize=14)\n",
        "plt.legend(['train', 'validation'], loc='upper left', fontsize=12)\n",
        "plt.show()"
      ],
      "id": "d227add8"
    },
    {
      "cell_type": "code",
      "execution_count": null,
      "metadata": {
        "id": "a2467a33",
        "colab": {
          "base_uri": "https://localhost:8080/",
          "height": 305
        },
        "outputId": "172ad389-1055-4879-dc8c-0098fb203c30"
      },
      "outputs": [
        {
          "output_type": "display_data",
          "data": {
            "text/plain": [
              "<Figure size 432x288 with 1 Axes>"
            ],
            "image/png": "[encoded data removed]"
          },
          "metadata": {
            "needs_background": "light"
          }
        }
      ],
      "source": [
        "# summarize history for loss\n",
        "plt.plot(lstm_history['loss'])\n",
        "plt.plot(lstm_history['val_loss'])\n",
        "plt.title('LSTM model loss', fontsize=16)\n",
        "plt.ylabel('loss', fontsize=14)\n",
        "plt.xlabel('epoch', fontsize=14)\n",
        "plt.xticks(fontsize=14)\n",
        "plt.yticks(fontsize=14)\n",
        "plt.legend(['train', 'validation'], loc='upper left', fontsize=12)\n",
        "plt.show()"
      ],
      "id": "a2467a33"
    },
    {
      "cell_type": "code",
      "execution_count": null,
      "metadata": {
        "id": "67729a62",
        "colab": {
          "base_uri": "https://localhost:8080/",
          "height": 872
        },
        "outputId": "a3d1b6bd-3779-4193-f494-3a770d7dc4e9"
      },
      "outputs": [
        {
          "output_type": "stream",
          "name": "stderr",
          "text": [
            "/usr/local/lib/python3.7/dist-packages/sklearn/metrics/_classification.py:1318: UndefinedMetricWarning: Precision and F-score are ill-defined and being set to 0.0 in labels with no predicted samples. Use `zero_division` parameter to control this behavior.\n",
            "  _warn_prf(average, modifier, msg_start, len(result))\n",
            "/usr/local/lib/python3.7/dist-packages/sklearn/metrics/_classification.py:1318: UndefinedMetricWarning: Precision and F-score are ill-defined and being set to 0.0 in labels with no predicted samples. Use `zero_division` parameter to control this behavior.\n",
            "  _warn_prf(average, modifier, msg_start, len(result))\n",
            "/usr/local/lib/python3.7/dist-packages/sklearn/metrics/_classification.py:1318: UndefinedMetricWarning: Precision and F-score are ill-defined and being set to 0.0 in labels with no predicted samples. Use `zero_division` parameter to control this behavior.\n",
            "  _warn_prf(average, modifier, msg_start, len(result))\n"
          ]
        },
        {
          "output_type": "display_data",
          "data": {
            "text/plain": [
              "<Figure size 576x576 with 1 Axes>"
            ],
            "image/png": "[encoded data removed]"
          },
          "metadata": {
            "needs_background": "light"
          }
        },
        {
          "output_type": "stream",
          "name": "stdout",
          "text": [
            "Classification Report:\n",
            "----------------------\n",
            "               precision    recall  f1-score   support\n",
            "\n",
            "           0       0.34      1.00      0.51     38125\n",
            "           1       0.00      0.00      0.00     23338\n",
            "           2       0.00      0.00      0.00     25918\n",
            "           3       0.00      0.00      0.00     23723\n",
            "\n",
            "    accuracy                           0.34    111104\n",
            "   macro avg       0.09      0.25      0.13    111104\n",
            "weighted avg       0.12      0.34      0.18    111104\n",
            "\n"
          ]
        }
      ],
      "source": [
        "class_names = ['HVHA', 'HVLA', 'LVHA', 'LVLA']\n",
        "\n",
        "y_pred = lstm_model.predict(x_test)\n",
        "\n",
        "y_predict = []\n",
        "\n",
        "for i in range(len(y_pred)):\n",
        "    y_predict.append(np.argmax(y_pred[i]))\n",
        "\n",
        "y_predict = np.array(y_predict)\n",
        "yt_test = np.argmax(y_test, axis=1)\n",
        "\n",
        "cm = confusion_matrix(yt_test, y_predict)\n",
        "clr = classification_report(yt_test, y_predict)\n",
        "\n",
        "plt.figure(figsize=(8, 8))\n",
        "sns.heatmap(cm, annot=True, vmin=0, fmt='g', cbar=False, cmap='Blues', annot_kws={\"size\":14})\n",
        "plt.xticks(np.arange(4) + 0.5, class_names, fontsize=14)\n",
        "plt.yticks(np.arange(4) + 0.5, class_names, fontsize=14)\n",
        "plt.xlabel(\"Predicted\", fontsize=14)\n",
        "plt.ylabel(\"Actual\", fontsize=14)\n",
        "# plt.title(\"Confusion Matrix for LSTM Model\")\n",
        "plt.show()\n",
        "\n",
        "print(\"Classification Report:\\n----------------------\\n\", clr)"
      ],
      "id": "67729a62"
    }
  ],
  "metadata": {
    "colab": {
      "collapsed_sections": [
        "e080c56c",
        "7_rQ1kLY6yE-"
      ],
      "name": "CNN1D + LSTM GRU on DEAP dataset.ipynb",
      "provenance": [],
      "include_colab_link": true
    },
    "kernelspec": {
      "display_name": "Python 3",
      "language": "python",
      "name": "python3"
    },
    "language_info": {
      "codemirror_mode": {
        "name": "ipython",
        "version": 3
      },
      "file_extension": ".py",
      "mimetype": "text/x-python",
      "name": "python",
      "nbconvert_exporter": "python",
      "pygments_lexer": "ipython3",
      "version": "3.7.10"
    },
    "accelerator": "GPU"
  },
  "nbformat": 4,
  "nbformat_minor": 5
}